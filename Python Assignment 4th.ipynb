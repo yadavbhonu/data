{
 "cells": [
  {
   "cell_type": "code",
   "execution_count": 1,
   "id": "89e80169-1d52-441b-b386-95e15f3b6007",
   "metadata": {},
   "outputs": [],
   "source": [
    "# 1. What exactly is []?\n",
    "# Ans: [] (foo-bar) is an empty list."
   ]
  },
  {
   "cell_type": "code",
   "execution_count": 1,
   "id": "d9431ad7-419f-4b7d-a6bd-cd7d0ee46fa0",
   "metadata": {},
   "outputs": [],
   "source": [
    "# 2. In a list of values stored in a variable called spam, how would you assign the value 'hello' as the third value? (Assume [2, 4, 6, 8, 10] are in spam.)\n",
    "spam=[2, 4, 6, 8, 10]"
   ]
  },
  {
   "cell_type": "code",
   "execution_count": 4,
   "id": "747fc6e5-2892-4981-bb12-155ac90e3661",
   "metadata": {},
   "outputs": [],
   "source": [
    "spam[2]='Hello'"
   ]
  },
  {
   "cell_type": "code",
   "execution_count": 5,
   "id": "77a20176-d671-4424-8ffb-002076a32a91",
   "metadata": {},
   "outputs": [
    {
     "data": {
      "text/plain": [
       "[2, 4, 'Hello', 8, 10]"
      ]
     },
     "execution_count": 5,
     "metadata": {},
     "output_type": "execute_result"
    }
   ],
   "source": [
    "spam"
   ]
  },
  {
   "cell_type": "code",
   "execution_count": 6,
   "id": "226b66c1-574c-4ecd-ad1a-64695b414e8d",
   "metadata": {},
   "outputs": [
    {
     "data": {
      "text/plain": [
       "\"Let's pretend the spam includes the list ['a', 'b', 'c', 'd'] for the next three queries.\""
      ]
     },
     "execution_count": 6,
     "metadata": {},
     "output_type": "execute_result"
    }
   ],
   "source": [
    "'''Let's pretend the spam includes the list ['a', 'b', 'c', 'd'] for the next three queries.'''"
   ]
  },
  {
   "cell_type": "code",
   "execution_count": 8,
   "id": "e4fff1fb-d7f3-4b87-bba3-73c24981e071",
   "metadata": {},
   "outputs": [
    {
     "data": {
      "text/plain": [
       "'d'"
      ]
     },
     "execution_count": 8,
     "metadata": {},
     "output_type": "execute_result"
    }
   ],
   "source": [
    "#3. What is the value of spam[int(int('3' * 2) / 11)]?\n",
    "spam=['a', 'b', 'c', 'd']\n",
    "spam[int(int('3' * 2) / 11)]"
   ]
  },
  {
   "cell_type": "code",
   "execution_count": 10,
   "id": "bbe284e1-1401-4467-959e-c6d37b3bf1c8",
   "metadata": {},
   "outputs": [
    {
     "data": {
      "text/plain": [
       "'d'"
      ]
     },
     "execution_count": 10,
     "metadata": {},
     "output_type": "execute_result"
    }
   ],
   "source": [
    "# 4. What is the value of spam[-1]?\n",
    "spam[-1]"
   ]
  },
  {
   "cell_type": "code",
   "execution_count": 12,
   "id": "115a9f07-496e-4a1f-b7db-6fbf22ff6497",
   "metadata": {},
   "outputs": [
    {
     "data": {
      "text/plain": [
       "['a', 'b']"
      ]
     },
     "execution_count": 12,
     "metadata": {},
     "output_type": "execute_result"
    }
   ],
   "source": [
    "# 5. What is the value of spam[:2]?\n",
    "spam[:2]"
   ]
  },
  {
   "cell_type": "code",
   "execution_count": 13,
   "id": "a32650ed-8378-48f6-8e47-522952559ca6",
   "metadata": {},
   "outputs": [
    {
     "data": {
      "text/plain": [
       "\"Let's pretend bacon has the list [3.14, 'cat,' 11, 'cat,' True] for the next three questions.\""
      ]
     },
     "execution_count": 13,
     "metadata": {},
     "output_type": "execute_result"
    }
   ],
   "source": [
    "'''Let's pretend bacon has the list [3.14, 'cat,' 11, 'cat,' True] for the next three questions.'''"
   ]
  },
  {
   "cell_type": "code",
   "execution_count": 16,
   "id": "e5fddc9f-1731-4c4d-b961-e5c36ceef7aa",
   "metadata": {},
   "outputs": [],
   "source": [
    "bacon=[3.14, 'cat', 11, 'cat', True] "
   ]
  },
  {
   "cell_type": "code",
   "execution_count": 17,
   "id": "5fa1ca16-bfc5-4491-b043-9e412e075dc5",
   "metadata": {},
   "outputs": [
    {
     "data": {
      "text/plain": [
       "1"
      ]
     },
     "execution_count": 17,
     "metadata": {},
     "output_type": "execute_result"
    }
   ],
   "source": [
    "#6. What is the value of bacon.index('cat')?\n",
    "bacon.index('cat')"
   ]
  },
  {
   "cell_type": "code",
   "execution_count": 18,
   "id": "115342ed-e6d0-4bdf-afdc-da7346e855dd",
   "metadata": {},
   "outputs": [],
   "source": [
    "# 7. How does bacon.append(99) change the look of the list value in bacon?\n",
    "bacon.append(99)"
   ]
  },
  {
   "cell_type": "code",
   "execution_count": 19,
   "id": "c3ae73ba-26d2-47d1-b9af-0c533b426a65",
   "metadata": {},
   "outputs": [
    {
     "data": {
      "text/plain": [
       "[3.14, 'cat', 11, 'cat', True, 99]"
      ]
     },
     "execution_count": 19,
     "metadata": {},
     "output_type": "execute_result"
    }
   ],
   "source": [
    "bacon"
   ]
  },
  {
   "cell_type": "code",
   "execution_count": 21,
   "id": "98938707-8ad0-464d-a1e1-d9a95bf5e4d4",
   "metadata": {},
   "outputs": [
    {
     "name": "stdout",
     "output_type": "stream",
     "text": [
      "[3.14, 11, True, 99]\n"
     ]
    }
   ],
   "source": [
    "# 8. How does bacon.remove('cat') change the look of the list in bacon?\n",
    "bacon.remove('cat')\n",
    "print(bacon)"
   ]
  },
  {
   "cell_type": "code",
   "execution_count": 22,
   "id": "f34dc58c-2ab6-425e-93c1-577441b103aa",
   "metadata": {},
   "outputs": [],
   "source": [
    "# 9. What are the list concatenation and list replication operators?\n",
    "# Ans: List concatenation operator: + and replication operator: *"
   ]
  },
  {
   "cell_type": "code",
   "execution_count": 23,
   "id": "eeecbbaf-8115-4a6c-a0e7-9a0df1b92fae",
   "metadata": {},
   "outputs": [],
   "source": [
    "# 10. What is difference between the list methods append() and insert()?\n",
    "#Ans: append() adds values at the end of list while insert() adds values anywhere inside list as specified indices."
   ]
  },
  {
   "cell_type": "code",
   "execution_count": 24,
   "id": "75643537-a174-4a40-b86a-e3e27e4d6efa",
   "metadata": {},
   "outputs": [],
   "source": [
    "# 11. What are the two methods for removing items from a list?\n",
    "#Ans: remove() list method and del statement"
   ]
  },
  {
   "cell_type": "code",
   "execution_count": 25,
   "id": "af589dac-fbf5-46be-81fa-2ee869698761",
   "metadata": {},
   "outputs": [],
   "source": [
    "# 12. Describe how list values and string values are identical.\n",
    "# Ans:Ans: Both lists and strings can be passed to len(), have indexes and slices, be used in for loops, be concatenated or replicated, and be used with the in and not in operators"
   ]
  },
  {
   "cell_type": "code",
   "execution_count": 1,
   "id": "e2eac4ab-b59a-474e-a21c-7c15abfab783",
   "metadata": {},
   "outputs": [],
   "source": [
    "# 13. What's the difference between tuples and lists?\n",
    "#Ans: Lists are mutable, i.e,values can be added, removed and changed from or in lists. Tuples are immutable. tuples uses () parenthesis and lists uses square [] brackets."
   ]
  },
  {
   "cell_type": "code",
   "execution_count": 2,
   "id": "56facaf2-d46c-460d-879b-d79ca51a348a",
   "metadata": {},
   "outputs": [],
   "source": [
    "# 14.How do you type a tuple value that only contains the integer 42?\n",
    "#Ans: (42,).trailing comma is mandatory."
   ]
  },
  {
   "cell_type": "code",
   "execution_count": 3,
   "id": "b1d84ef3-73c0-4ae3-aeec-83735254d94e",
   "metadata": {},
   "outputs": [],
   "source": [
    "# 15. How do you get a list value's tuple form? How do you get a tuple value's list form?\n",
    "#Ans: tuple() and list() functions respectively."
   ]
  },
  {
   "cell_type": "code",
   "execution_count": 5,
   "id": "0d6618b0-fdfb-4add-b6b6-34dbac5955a3",
   "metadata": {},
   "outputs": [],
   "source": [
    "# 16. Variables that \"contain\" list values are not necessarily lists themselves. Instead, what do they contain?\n",
    "#Ans:They contain references to list values."
   ]
  },
  {
   "cell_type": "code",
   "execution_count": 6,
   "id": "2b8baee1-f118-4d1d-8de6-41073b54eb94",
   "metadata": {},
   "outputs": [],
   "source": [
    "# 17.How do you distinguish between copy.copy() and copy.deepcopy()?\n",
    "#Ans: Ans: The copy.copy() function will do a shallow copy of a list, while the copy.deepcopy() function will do a deep copy of a list. That is, only copy .deepcopy() will duplicate any lists inside the list"
   ]
  },
  {
   "cell_type": "code",
   "execution_count": null,
   "id": "9f618353-5ae3-486a-870f-6b36ebdc966d",
   "metadata": {},
   "outputs": [],
   "source": []
  }
 ],
 "metadata": {
  "kernelspec": {
   "display_name": "Python 3 (ipykernel)",
   "language": "python",
   "name": "python3"
  },
  "language_info": {
   "codemirror_mode": {
    "name": "ipython",
    "version": 3
   },
   "file_extension": ".py",
   "mimetype": "text/x-python",
   "name": "python",
   "nbconvert_exporter": "python",
   "pygments_lexer": "ipython3",
   "version": "3.10.6"
  }
 },
 "nbformat": 4,
 "nbformat_minor": 5
}
