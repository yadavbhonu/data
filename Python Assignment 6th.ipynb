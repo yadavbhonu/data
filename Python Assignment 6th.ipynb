{
 "cells": [
  {
   "cell_type": "code",
   "execution_count": 10,
   "id": "50629126-9225-4be4-8741-7c51daf5625d",
   "metadata": {},
   "outputs": [
    {
     "name": "stdout",
     "output_type": "stream",
     "text": [
      "['False', 'None', 'True', 'and', 'as', 'assert', 'async', 'await', 'break', 'class', 'continue', 'def', 'del', 'elif', 'else', 'except', 'finally', 'for', 'from', 'global', 'if', 'import', 'in', 'is', 'lambda', 'nonlocal', 'not', 'or', 'pass', 'raise', 'return', 'try', 'while', 'with', 'yield']\n"
     ]
    }
   ],
   "source": [
    "#Q.1. What are keywords in python? Using the keyword library, print all the python keywords.\n",
    "import keyword\n",
    "print(keyword.kwlist)"
   ]
  },
  {
   "cell_type": "code",
   "execution_count": 11,
   "id": "d9bb11bd-f30a-4cf2-8341-babee0e6b329",
   "metadata": {},
   "outputs": [
    {
     "data": {
      "text/plain": [
       "\"Variable names must start with a letter (a-z, A-Z) or an underscore '_'. Names are case-sensitive (e.g., myVar and myvar are different variables). Avoid using Python reserved keywords (e.g., if, else, for, while, def, class, etc.) as variable names.Example of valid variable name.\""
      ]
     },
     "execution_count": 11,
     "metadata": {},
     "output_type": "execute_result"
    }
   ],
   "source": [
    "# Q.2. What are the rules to create variables in python?\n",
    "'''Variable names must start with a letter (a-z, A-Z) or an underscore '_'. Names are case-sensitive (e.g., myVar and myvar are different variables). Avoid using Python reserved keywords (e.g., if, else, for, while, def, class, etc.) as variable names.Example of valid variable name.'''"
   ]
  },
  {
   "cell_type": "code",
   "execution_count": 12,
   "id": "91703a8b-8043-4193-8f5f-9f9eeaee5451",
   "metadata": {},
   "outputs": [],
   "source": [
    "my_var = 5\n",
    "_name = \"Bhonu\"\n",
    "MAX_SIZE = 250"
   ]
  },
  {
   "cell_type": "code",
   "execution_count": 13,
   "id": "572912f3-11bc-4a52-baf9-77f2e3f90f3b",
   "metadata": {},
   "outputs": [],
   "source": [
    "#Q.3. What are the standards and conventions followed for the nomenclature of variables in  python to improve code readability and maintainability?\n",
    "#Ans:In Python, adhering to certain standards and conventions for variable naming helps improve code readability and maintainability. The commonly accepted conventions are defined in PEP 8, the official style guide for Python code. "
   ]
  },
  {
   "cell_type": "code",
   "execution_count": 14,
   "id": "c9fbc07f-8d42-4b78-ad27-ec5b7f06a0a0",
   "metadata": {},
   "outputs": [
    {
     "ename": "SyntaxError",
     "evalue": "invalid syntax (312734221.py, line 3)",
     "output_type": "error",
     "traceback": [
      "\u001b[0;36m  Cell \u001b[0;32mIn [14], line 3\u001b[0;36m\u001b[0m\n\u001b[0;31m    in=10\u001b[0m\n\u001b[0m    ^\u001b[0m\n\u001b[0;31mSyntaxError\u001b[0m\u001b[0;31m:\u001b[0m invalid syntax\n"
     ]
    }
   ],
   "source": [
    "#Q.4. What will happen if a keyword is used as a variable name?\n",
    "#Ans: If a keyword is used as a variable name in Python, it will result in a syntax error. \n",
    "in=10"
   ]
  },
  {
   "cell_type": "code",
   "execution_count": 16,
   "id": "f760f50e-842a-4c3d-adc6-7051020677a4",
   "metadata": {},
   "outputs": [],
   "source": [
    "# Q.5. For what purpose def keyword is used?\n",
    "#Ans: For creating new function we use \"def\" function."
   ]
  },
  {
   "cell_type": "code",
   "execution_count": 18,
   "id": "c9d08157-f7cd-4ab6-bed9-1a1f6508efb8",
   "metadata": {},
   "outputs": [
    {
     "data": {
      "text/plain": [
       "2.0"
      ]
     },
     "execution_count": 18,
     "metadata": {},
     "output_type": "execute_result"
    }
   ],
   "source": [
    "# Q.6. What is the operation of this special character ‘\\’?\n",
    "10/5"
   ]
  },
  {
   "cell_type": "code",
   "execution_count": 20,
   "id": "cfa62a41-614c-482d-b6a0-695cefc71f58",
   "metadata": {},
   "outputs": [],
   "source": [
    " # Q.7. Give an example of the following conditions:\n",
    " # (i)Homogeneous list\n",
    " # (ii) Heterogeneous set\n",
    " # (iii)Homogeneous tuple\n",
    "Homogeneous_list = [1, 2, 3, 4, 5,6,7,7]\n",
    "heterogeneous_set = {1, 'Bhumi', (2, 3)}\n",
    "homogeneous_tuple = ('Apple', 'Mango', 'orange')\n"
   ]
  },
  {
   "cell_type": "code",
   "execution_count": 25,
   "id": "67d83e5f-78c3-4de4-af1c-88e7ba3c82f1",
   "metadata": {},
   "outputs": [
    {
     "data": {
      "text/plain": [
       "[1, 2, 3, 4, 5, 6, 7, 7]"
      ]
     },
     "execution_count": 25,
     "metadata": {},
     "output_type": "execute_result"
    }
   ],
   "source": [
    "Homogeneous_list"
   ]
  },
  {
   "cell_type": "code",
   "execution_count": 27,
   "id": "60a8740e-7b72-4f88-8bb8-d2b289782566",
   "metadata": {},
   "outputs": [
    {
     "data": {
      "text/plain": [
       "{(2, 3), 1, 'Bhumi'}"
      ]
     },
     "execution_count": 27,
     "metadata": {},
     "output_type": "execute_result"
    }
   ],
   "source": [
    "heterogeneous_set"
   ]
  },
  {
   "cell_type": "code",
   "execution_count": 28,
   "id": "1dd25450-d829-4838-b0c3-0215c0935190",
   "metadata": {},
   "outputs": [
    {
     "data": {
      "text/plain": [
       "('Apple', 'Mango', 'orange')"
      ]
     },
     "execution_count": 28,
     "metadata": {},
     "output_type": "execute_result"
    }
   ],
   "source": [
    "homogeneous_tuple"
   ]
  },
  {
   "cell_type": "code",
   "execution_count": 29,
   "id": "2a65e346-73c1-45f4-ba16-9f18ebef6846",
   "metadata": {},
   "outputs": [],
   "source": [
    "#Q.8. Explain the mutable and immutable data types with proper explanation & examples.\n",
    "# Immutable data types cannot be modified or changed after creation.for examble:Strings,Floating-point,Tuples, Integer are immutable.\n",
    "# Mutable data types can be modified after creation. For Example:Lists, Dictionaries, Sets are mutable."
   ]
  },
  {
   "cell_type": "code",
   "execution_count": 30,
   "id": "24d1c890-a9b4-4dca-ae22-1fc563ecd258",
   "metadata": {},
   "outputs": [
    {
     "name": "stdout",
     "output_type": "stream",
     "text": [
      "*\n",
      "***\n",
      "*****\n",
      "*******\n",
      "*********\n"
     ]
    }
   ],
   "source": [
    "# Q.9. Write a code to create the given structure using only for loop.\n",
    " # *\n",
    " # ***\n",
    " # *****\n",
    " # *******\n",
    " # *********\n",
    "#Ans: This pattern using a for loop in Python:\n",
    "spam=5\n",
    "for i in range(1, spam + 1):\n",
    "    print(\"*\" * (2 * i - 1))"
   ]
  },
  {
   "cell_type": "code",
   "execution_count": 33,
   "id": "51adb393-3608-46be-abf4-ddba45dbb382",
   "metadata": {},
   "outputs": [
    {
     "name": "stdout",
     "output_type": "stream",
     "text": [
      "|||||||||\n",
      "|||||||\n",
      "|||||\n",
      "|||\n",
      "|\n"
     ]
    }
   ],
   "source": [
    " # Q.10. Write a code to create the given structure using while loop.\n",
    " # |||||||||\n",
    " # |||||||\n",
    " # |||||\n",
    " # |||\n",
    " # |\n",
    "#Ans: \n",
    "rows = 5 \n",
    "count = rows\n",
    "\n",
    "while count >= 1:\n",
    "    print(\"|\" * (2 * count - 1))\n",
    "    count -= 1"
   ]
  },
  {
   "cell_type": "code",
   "execution_count": null,
   "id": "49d7b697-f115-4d91-ab28-6a8e96b5b80a",
   "metadata": {},
   "outputs": [],
   "source": []
  }
 ],
 "metadata": {
  "kernelspec": {
   "display_name": "Python 3 (ipykernel)",
   "language": "python",
   "name": "python3"
  },
  "language_info": {
   "codemirror_mode": {
    "name": "ipython",
    "version": 3
   },
   "file_extension": ".py",
   "mimetype": "text/x-python",
   "name": "python",
   "nbconvert_exporter": "python",
   "pygments_lexer": "ipython3",
   "version": "3.10.6"
  }
 },
 "nbformat": 4,
 "nbformat_minor": 5
}
