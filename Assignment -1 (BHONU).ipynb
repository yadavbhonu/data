{
 "cells": [
  {
   "cell_type": "code",
   "execution_count": 11,
   "id": "d315c624-dcbd-4f86-a7e8-587cfb4a5e66",
   "metadata": {},
   "outputs": [],
   "source": [
    "#1. In the below elements which of them are values or an expression? eg:- values can be integer or string and expressions will be mathematical operators.\n",
    "# * \n",
    "# 'hello'\n",
    "# -87.8\n",
    "# - \n",
    "# / \n",
    "# +\t\n",
    "# 6 \n",
    "# ANS: *, - , /, + are expression and ‘hello’, -87.8, 6 are values.\n"
   ]
  },
  {
   "cell_type": "code",
   "execution_count": 13,
   "id": "c1b3c3ee-2287-4397-97b0-ce1fb882d25b",
   "metadata": {},
   "outputs": [],
   "source": [
    "# 2. What is the difference between string and variable?\n",
    "# Ans: A Variable is a store of information, and a String is a type of information you would store in a Variable. A String is usually words, enclosed with \"\" . example a = “Bhonu” in this example a is variable and we declare it is a string.\n"
   ]
  },
  {
   "cell_type": "code",
   "execution_count": 14,
   "id": "93566604-53a0-47d5-835f-089dc192418b",
   "metadata": {},
   "outputs": [],
   "source": [
    "#3. Describe three different data types.\n",
    "# ANS: 1) Integers: Integers are whole numbers, without a fractional component. They can be positive or negative. Example x = 5 y = -4\n",
    "# 2) Floats: Floats represent real numbers and are written with a decimal point. \n",
    "# example  a = 5.45.0 , b = -4.56 \n",
    "# 3) Strings: Strings in Python are sequences of character data. They are created by enclosing characters in quotes. a = \"bhonu_yadav!\" \n"
   ]
  },
  {
   "cell_type": "code",
   "execution_count": 15,
   "id": "0572de3d-1c8a-4bf4-ab31-4851c26373bd",
   "metadata": {},
   "outputs": [],
   "source": [
    "# 4. What is an expression made up of? What do all expressions do?\n",
    "# Ans: An expression is a combination of variables, constants, operators, and function calls that produce a value when evaluated. It represents a computation or a calculation in a programming or mathematical context. Here are the components typically found in expressions:\n",
    "# 1. Variables: They are used to store and represent values that can change during the execution of a program. Variables can be assigned values and used in expressions to perform calculations.\n",
    "# 2. Constants: These are fixed values that do not change during program execution. Examples of constants include numbers (e.g., 5, 3.14) and strings (e.g., \"Hello\").\n",
    "# 3. Operators: Operators perform specific operations on one or more operands to produce a result. Common operators include arithmetic operators (+, -, *, /), relational operators (>, <, ==), logical operators (&&, ||), and assignment operators (=).\n",
    "# 4. Function calls: Functions are reusable blocks of code that perform specific tasks. Function calls are used in expressions to invoke a function and retrieve its return value. Functions can accept arguments (inputs) and may modify the program's state.\n"
   ]
  },
  {
   "cell_type": "code",
   "execution_count": 16,
   "id": "c8cac5a2-3930-4be5-ad21-aa9c03a8b248",
   "metadata": {},
   "outputs": [],
   "source": [
    "# 5. This assignment statements, like spam = 10. What is the difference between an expression and a statement?\n",
    "# Ans: 1. Expressions: An expression is a combination of variables, constants, operators, and function calls that produces a value when evaluated. It represents a computation or a calculation. Expressions can be as simple as a single variable or constant or more complex with multiple components and operators. Examples of expressions include 2 + 3, x * y, and my_function(5). The main characteristic of an expression is that it has a value. Therefore, expressions can be used as part of larger expressions, assigned to variables, or passed as arguments to functions.\n",
    "#      2. Statements: A statement is a complete instruction that performs an action or controls the flow of a program. It is a unit of code that can be executed by the computer. Unlike expressions, statements do not produce a value. They typically include keywords, operators, and expressions to specify the desired behavior. Examples of statements include variable assignments (spam = 10), conditional statements (if and else), loops (for and while), and function declarations. Statements are used to control the execution flow, manipulate data, or define program structure.\n",
    "#      To summarize, the key difference between expressions and statements is that expressions produce a value, while statements are complete instructions that perform actions without producing a value. Expressions are often used within statements to provide the necessary data for calculations or decision-making.\n"
   ]
  },
  {
   "cell_type": "code",
   "execution_count": 18,
   "id": "683b5270-63bb-4afe-bac8-a5fa46306af4",
   "metadata": {},
   "outputs": [
    {
     "data": {
      "text/plain": [
       "23"
      ]
     },
     "execution_count": 18,
     "metadata": {},
     "output_type": "execute_result"
    }
   ],
   "source": [
    "# 6. After running the following code, what does the variable bacon contain?\n",
    "bacon = 22\n",
    "bacon + 1"
   ]
  },
  {
   "cell_type": "code",
   "execution_count": 19,
   "id": "610f61cc-129d-445e-8790-e639208a9b80",
   "metadata": {},
   "outputs": [
    {
     "data": {
      "text/plain": [
       "'spamspamspam'"
      ]
     },
     "execution_count": 19,
     "metadata": {},
     "output_type": "execute_result"
    }
   ],
   "source": [
    "# 7. What should the values of the following two terms be?\n",
    "'spam' + 'spamspam'\n",
    "'spam' * 3\n"
   ]
  },
  {
   "cell_type": "code",
   "execution_count": 20,
   "id": "bc37e969-9d1f-475a-b9b6-2dbfef769c1a",
   "metadata": {},
   "outputs": [],
   "source": [
    "# 8. Why is eggs a valid variable name while 100 is invalid?\n",
    "# Ans: Based on these rules, eggs is a valid variable name because it starts with a letter and contains only letters. However, 100 is an invalid variable name because it starts with a digit, which violates the first rule.\n"
   ]
  },
  {
   "cell_type": "code",
   "execution_count": 21,
   "id": "8f39ea81-d2a4-427a-b1e9-8bd9bbcca515",
   "metadata": {},
   "outputs": [],
   "source": [
    "# 9. What three functions can be used to get the integer, floating-point number, or string version of a value?\n",
    "# Ans: int(), float() and str().\n"
   ]
  },
  {
   "cell_type": "code",
   "execution_count": 27,
   "id": "c10d0df0-a0c1-4bfa-acc5-18663a4853fd",
   "metadata": {},
   "outputs": [
    {
     "data": {
      "text/plain": [
       "'I have eaten 99 burritos.'"
      ]
     },
     "execution_count": 27,
     "metadata": {},
     "output_type": "execute_result"
    }
   ],
   "source": [
    "#10. Why does this expression cause an error? How can you fix it?\n",
    "#'I have eaten ' + 99 + ' burritos.'\n",
    "# ANS:  Error reason: In this can only concatenate string to string not string to integer in this 99 is integer.\n",
    "'I have eaten ' + '99' + ' burritos.'"
   ]
  },
  {
   "cell_type": "code",
   "execution_count": null,
   "id": "5ccb9017-33a3-4312-8ed8-e38ef4cc1890",
   "metadata": {},
   "outputs": [],
   "source": []
  }
 ],
 "metadata": {
  "kernelspec": {
   "display_name": "Python 3 (ipykernel)",
   "language": "python",
   "name": "python3"
  },
  "language_info": {
   "codemirror_mode": {
    "name": "ipython",
    "version": 3
   },
   "file_extension": ".py",
   "mimetype": "text/x-python",
   "name": "python",
   "nbconvert_exporter": "python",
   "pygments_lexer": "ipython3",
   "version": "3.10.6"
  }
 },
 "nbformat": 4,
 "nbformat_minor": 5
}
