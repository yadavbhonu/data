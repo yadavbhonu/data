{
 "cells": [
  {
   "cell_type": "code",
   "execution_count": 1,
   "id": "7a5d8c1e-2c26-43ce-99d4-778f90cf31b9",
   "metadata": {},
   "outputs": [],
   "source": [
    "#1. Why are functions advantageous to have in your programs?\n",
    "#Ans:\n",
    "# Advantages of functions:- \n",
    "# 1. Avoid duplication and repetition of codes\n",
    "# 2. decompose  complex programs into simpler ones.\n",
    "# 3. Improve clarity and readability of code.\n",
    "# 4. reduces chances of error\n",
    "# 5. ease out modification of program\n",
    "# 6. information hiding"
   ]
  },
  {
   "cell_type": "code",
   "execution_count": 2,
   "id": "6679c00f-dfa1-4c57-8eab-ca04fe24b43e",
   "metadata": {},
   "outputs": [],
   "source": [
    "# 2. When does the code in a function run: when it's specified or when it's called?\n",
    "#Ans: The code in a function executes when the function is called, not when the function is defined."
   ]
  },
  {
   "cell_type": "code",
   "execution_count": 26,
   "id": "58d4ccad-ce4e-4259-8f1f-b9b718ea8852",
   "metadata": {},
   "outputs": [],
   "source": [
    "# 3. What statement creates a function?\n",
    "# Ans: With the help of \"def\" key word create function."
   ]
  },
  {
   "cell_type": "code",
   "execution_count": 2,
   "id": "f48efbb5-2110-4ccb-9afc-b8b19c4c1895",
   "metadata": {},
   "outputs": [],
   "source": [
    "#4. What is the difference between a function and a function call?\n",
    "#Ans: A function is a block of code that performs a specific task or operation and A function call is the actual execution of a funciton. For Example:\n",
    "def add (a,b):\n",
    "    return a+b\n"
   ]
  },
  {
   "cell_type": "code",
   "execution_count": 8,
   "id": "f2bb5f78-a41e-4e6e-bb74-be2a6d844400",
   "metadata": {},
   "outputs": [],
   "source": [
    "a=\"bhonu\"\n",
    "b=\" yadav\""
   ]
  },
  {
   "cell_type": "code",
   "execution_count": 9,
   "id": "b2b0d029-3e1c-4e1c-a417-d5a80cd35b2b",
   "metadata": {},
   "outputs": [
    {
     "data": {
      "text/plain": [
       "'bhonu yadav'"
      ]
     },
     "execution_count": 9,
     "metadata": {},
     "output_type": "execute_result"
    }
   ],
   "source": [
    "add(a,b)"
   ]
  },
  {
   "cell_type": "code",
   "execution_count": 10,
   "id": "5db8ed10-4fb2-411f-adb9-d275bb78e1ec",
   "metadata": {},
   "outputs": [],
   "source": [
    "# 5. How many global scopes are there in a Python program? How many local scopes?\n",
    "# Ans:At any given time during execution, you'll have at most four active Python scopes—local, enclosing, global, and built-in—depending on where you are in the code. On the other hand, you'll always have at least two active scopes, which are the global and built-in scopes.\n"
   ]
  },
  {
   "cell_type": "code",
   "execution_count": 17,
   "id": "fdc0744e-fd11-4a91-8444-30e922e0fcec",
   "metadata": {},
   "outputs": [],
   "source": [
    "# 6. What happens to variables in a local scope when the function call returns?\n",
    "#Ans:\n",
    "def add_function():\n",
    "    x=5 #local variables inside the function\n",
    "    print(\"This is my inside function:\",x)\n",
    "    "
   ]
  },
  {
   "cell_type": "code",
   "execution_count": 18,
   "id": "82e7d959-ad44-4870-aa22-3e72d332501f",
   "metadata": {},
   "outputs": [
    {
     "name": "stdout",
     "output_type": "stream",
     "text": [
      "This is my inside function: 5\n"
     ]
    }
   ],
   "source": [
    "add_function() #call funtions\n"
   ]
  },
  {
   "cell_type": "code",
   "execution_count": 19,
   "id": "566ad4b1-8b74-49db-b2e9-f9924c3aca2a",
   "metadata": {},
   "outputs": [],
   "source": [
    "#7. What is the concept of a return value? Is it possible to have a return value in an expression?\n",
    "# Ans: A return is a value that a function returns to the calling script or function when it completes its task. A return value can be any one of the four variable types: handle, integer, object, or string."
   ]
  },
  {
   "cell_type": "code",
   "execution_count": 20,
   "id": "3725e172-b103-4785-bda2-8f7de61d03e5",
   "metadata": {},
   "outputs": [],
   "source": [
    "# 8. If a function does not have a return statement, what is the return value of a call to that function?\n",
    "# Ans:If the function doesn't have any return statement, then it returns None ."
   ]
  },
  {
   "cell_type": "code",
   "execution_count": 22,
   "id": "3e775c04-80ed-4210-aa08-cd82ef37fa40",
   "metadata": {},
   "outputs": [
    {
     "name": "stdout",
     "output_type": "stream",
     "text": [
      "Inside the function: 20\n",
      "Outside the function: 20\n"
     ]
    }
   ],
   "source": [
    "# 9. How do you make a function variable refer to the global variable?\n",
    "# Ans: You can access the global variables from anywhere in the program. However, you can only access the local variables from the function. Additionally, if you need to change a global variable from a function, you need to declare that the variable is global. You can do this using the \"global\" keyword.\n",
    "x = 10  # Global variable\n",
    "\n",
    "def my_function():\n",
    "    global x  # Declare `x` as a global variable inside the function\n",
    "    x = 20    # Modify the global variable `x` within the function\n",
    "    print(\"Inside the function:\", x)\n",
    "\n",
    "my_function()\n",
    "print(\"Outside the function:\", x)  # This will print the modified value of x (20)"
   ]
  },
  {
   "cell_type": "code",
   "execution_count": 24,
   "id": "15024371-d4f9-4f1a-98dc-838ae7cdbdd7",
   "metadata": {},
   "outputs": [],
   "source": [
    "# 10. What is the data type of None?\n",
    "# Ans:The None keyword is used to define a null value, or no value at all. None is not the same as 0, False, or an empty string. None is a data type of its own (NoneType) and only None can be None."
   ]
  },
  {
   "cell_type": "code",
   "execution_count": 27,
   "id": "544c8b6e-0795-4b46-9130-3bb95ca699e8",
   "metadata": {},
   "outputs": [],
   "source": [
    "# 11. What does the sentence import areallyourpetsnamederic do?\n",
    "# Ans: This sentence imports the module “areallyourpetsnamederic “"
   ]
  },
  {
   "cell_type": "code",
   "execution_count": 28,
   "id": "df33efd4-e570-491a-b522-03175e9b227b",
   "metadata": {},
   "outputs": [],
   "source": [
    "# 12. If you had a bacon() feature in a spam module, what would you call it after importing spam?\n",
    "# Ans: by using spam.balcon()"
   ]
  },
  {
   "cell_type": "code",
   "execution_count": 30,
   "id": "95e9a82f-9007-4a8f-8ad9-d236bc28e861",
   "metadata": {},
   "outputs": [],
   "source": [
    "# 13. What can you do to save a programme from crashing if it encounters an error?\n",
    "# Ans:  error handling can be used to notify the user of why the error occurred and gracefully exit the process that caused the error."
   ]
  },
  {
   "cell_type": "code",
   "execution_count": null,
   "id": "cc7dfe31-1f66-41af-bc36-b797d8252a04",
   "metadata": {},
   "outputs": [],
   "source": [
    "# 14. What is the purpose of the try clause? What is the purpose of the except clause?\n"
   ]
  }
 ],
 "metadata": {
  "kernelspec": {
   "display_name": "Python 3 (ipykernel)",
   "language": "python",
   "name": "python3"
  },
  "language_info": {
   "codemirror_mode": {
    "name": "ipython",
    "version": 3
   },
   "file_extension": ".py",
   "mimetype": "text/x-python",
   "name": "python",
   "nbconvert_exporter": "python",
   "pygments_lexer": "ipython3",
   "version": "3.10.6"
  }
 },
 "nbformat": 4,
 "nbformat_minor": 5
}
