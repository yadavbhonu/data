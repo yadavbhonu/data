{
 "cells": [
  {
   "cell_type": "code",
   "execution_count": 4,
   "id": "1a50d454-6cb8-4ddb-b968-881c81dd6a1c",
   "metadata": {},
   "outputs": [
    {
     "data": {
      "text/plain": [
       "'1.What are the two values of the Boolean data type? How do you write them?\\nAns: There are two type of Boolean data type \\n 1st True\\n 2nd False'"
      ]
     },
     "execution_count": 4,
     "metadata": {},
     "output_type": "execute_result"
    }
   ],
   "source": [
    "'''1.What are the two values of the Boolean data type? How do you write them?\n",
    "Ans: There are two type of Boolean data type \n",
    " 1st True\n",
    " 2nd False'''"
   ]
  },
  {
   "cell_type": "code",
   "execution_count": 5,
   "id": "843b71ba-dc1f-490e-8ce8-be40a82df286",
   "metadata": {},
   "outputs": [],
   "source": [
    "#2. What are the three different types of Boolean operators?\n",
    "#Ans: There are three different type of Boolean Operators\n",
    "# 1st And operater we can also use this operators like \"&&\".\n",
    "# 2nd OR operator we can also use this operator like \"||\".\n",
    "# 3rd Not operator we can also ause this operator like \"!\".\n"
   ]
  },
  {
   "cell_type": "code",
   "execution_count": 13,
   "id": "4b8c0e7e-9bfd-46fe-8305-5bac9d1f66e8",
   "metadata": {},
   "outputs": [],
   "source": [
    "# 3. Make a list of each Boolean operator's truth tables (i.e. every possible combination of Boolean values for the operator and what it evaluate ).\n",
    "# Ans: 1) And Boolean Oprator\n",
    "# 0 0 =0\n",
    "# 0 1 =0\n",
    "# 1 0 =0\n",
    "# 1 1 =1\n",
    "# 2) OR Boolean Oprator\n",
    "# 0 0 =0\n",
    "# 0 1 =1\n",
    "# 1 0 =1\n",
    "# 1 1 =1\n",
    "# 3) NOT Boolean Oprator(NOT A is true when A is false, and vice versa)\n",
    "# A\tNOT A\n",
    "# 0\t1\n",
    "# 1\t0"
   ]
  },
  {
   "cell_type": "code",
   "execution_count": 29,
   "id": "5e907c28-51bc-419a-84c4-12761b3f0f66",
   "metadata": {},
   "outputs": [],
   "source": [
    "#4. What are the values of the following expressions?\n",
    "# (5 > 4) and (3 == 5)\n",
    "# not (5 > 4)\n",
    "# (5 > 4) or (3 == 5)\n",
    "# not ((5 > 4) or (3 == 5))\n",
    "# (True and True) and (True == False)\n",
    "# (not False) or (not True)"
   ]
  },
  {
   "cell_type": "code",
   "execution_count": 30,
   "id": "df4b754f-dadc-4b3e-ac65-bedb75ce80c1",
   "metadata": {},
   "outputs": [
    {
     "data": {
      "text/plain": [
       "False"
      ]
     },
     "execution_count": 30,
     "metadata": {},
     "output_type": "execute_result"
    }
   ],
   "source": [
    "(5 > 4) and (3 == 5)"
   ]
  },
  {
   "cell_type": "code",
   "execution_count": 31,
   "id": "63ce1ced-9b97-4cb1-854a-fd7ceccba6c2",
   "metadata": {},
   "outputs": [
    {
     "data": {
      "text/plain": [
       "False"
      ]
     },
     "execution_count": 31,
     "metadata": {},
     "output_type": "execute_result"
    }
   ],
   "source": [
    "not (5 > 4)"
   ]
  },
  {
   "cell_type": "code",
   "execution_count": 32,
   "id": "975d5b47-5689-414e-8b6f-e4ab3279f2d4",
   "metadata": {},
   "outputs": [
    {
     "data": {
      "text/plain": [
       "True"
      ]
     },
     "execution_count": 32,
     "metadata": {},
     "output_type": "execute_result"
    }
   ],
   "source": [
    "(5 > 4) or (3 == 5)"
   ]
  },
  {
   "cell_type": "code",
   "execution_count": 33,
   "id": "86f7fb46-a0b1-478c-9821-572082d0bbbb",
   "metadata": {},
   "outputs": [
    {
     "data": {
      "text/plain": [
       "False"
      ]
     },
     "execution_count": 33,
     "metadata": {},
     "output_type": "execute_result"
    }
   ],
   "source": [
    "not ((5 > 4) or (3 == 5))"
   ]
  },
  {
   "cell_type": "code",
   "execution_count": 34,
   "id": "3de7a029-e44c-45d7-8c10-b502f6377497",
   "metadata": {},
   "outputs": [
    {
     "data": {
      "text/plain": [
       "False"
      ]
     },
     "execution_count": 34,
     "metadata": {},
     "output_type": "execute_result"
    }
   ],
   "source": [
    "(True and True) and (True == False)"
   ]
  },
  {
   "cell_type": "code",
   "execution_count": 35,
   "id": "d59d244c-b7f7-42d3-966a-84d9db0a0db7",
   "metadata": {},
   "outputs": [
    {
     "data": {
      "text/plain": [
       "True"
      ]
     },
     "execution_count": 35,
     "metadata": {},
     "output_type": "execute_result"
    }
   ],
   "source": [
    "(not False) or (not True)"
   ]
  },
  {
   "cell_type": "code",
   "execution_count": 37,
   "id": "ff0d23ed-c77b-46d9-bae1-2b644c0e7c3e",
   "metadata": {},
   "outputs": [],
   "source": [
    "# 5. What are the six comparison operators?\n",
    "# Equal to: == (compares if two values are equal)\n",
    "# Not equal to: != (checks if two values are not equal)\n",
    "# Greater than: > (checks if one value is greater than another)\n",
    "# Less than: < (checks if one value is less than another)\n",
    "# Greater than or equal to: >= (checks if one value is greater than or equal to another)\n",
    "# Less than or equal to: <= (checks if one value is less than or equal to another)"
   ]
  },
  {
   "cell_type": "code",
   "execution_count": 38,
   "id": "e10dfaad-4afb-4ac6-8de2-76bc6c61cda9",
   "metadata": {},
   "outputs": [],
   "source": [
    "#6.How do you tell the difference between the equal to and assignment operators?Describe a condition and when you would use one.\n",
    "#Ans: == sign is equal sign or we can say caomparision sing. and only one = sign is a assignment opertor.for example\n"
   ]
  },
  {
   "cell_type": "code",
   "execution_count": 41,
   "id": "ffc97054-4c5b-431a-a8ae-f7211b77c95d",
   "metadata": {},
   "outputs": [
    {
     "data": {
      "text/plain": [
       "True"
      ]
     },
     "execution_count": 41,
     "metadata": {},
     "output_type": "execute_result"
    }
   ],
   "source": [
    "5==5"
   ]
  },
  {
   "cell_type": "code",
   "execution_count": 43,
   "id": "4083bc32-654c-461d-83e4-a0d895861bac",
   "metadata": {},
   "outputs": [
    {
     "name": "stdout",
     "output_type": "stream",
     "text": [
      "5\n"
     ]
    }
   ],
   "source": [
    "a=5\n",
    "print(a)"
   ]
  },
  {
   "cell_type": "code",
   "execution_count": 49,
   "id": "1eff431a-a517-4993-8da4-ef5211fbd5a8",
   "metadata": {},
   "outputs": [],
   "source": [
    "#7. Identify the three blocks in this code:\n",
    "# spam = 0\n",
    "# if spam == 10:\n",
    "#     print(eggs)\n",
    "# if spam > 5:\n",
    "#     print(bacon)\n",
    "# else:\n",
    "#     print(ham)\n",
    "#     print(spam)\n",
    "#     print(spam)\n",
    "# Ans: 0 ,0\n",
    "# NOTE: ham name is not define.\n"
   ]
  },
  {
   "cell_type": "code",
   "execution_count": 48,
   "id": "e150f3dd-60c5-4cd8-b680-bc97aa4ed174",
   "metadata": {},
   "outputs": [
    {
     "name": "stdout",
     "output_type": "stream",
     "text": [
      "0\n",
      "0\n"
     ]
    }
   ],
   "source": [
    "spam = 0\n",
    "if spam == 10:\n",
    "    print(eggs)\n",
    "if spam > 5:\n",
    "    print(bacon)\n",
    "else:\n",
    "    print(spam)\n",
    "    print(spam)"
   ]
  },
  {
   "cell_type": "code",
   "execution_count": 3,
   "id": "a7325ce4-05f9-4ef6-9b83-62154ef53992",
   "metadata": {},
   "outputs": [
    {
     "name": "stdout",
     "output_type": "stream",
     "text": [
      "Greeting\n"
     ]
    }
   ],
   "source": [
    "# 8.Write code that prints Hello if 1 is stored in spam, prints Howdy if 2 is stored in spam, and prints Greetings! if anything else is stored in spam.\n",
    "spam = 5\n",
    "if spam ==1:\n",
    "    print('Hello')\n",
    "if spam ==2:\n",
    "    print('Howdy')\n",
    "else:\n",
    "    print('Greeting')\n",
    "    "
   ]
  },
  {
   "cell_type": "code",
   "execution_count": 4,
   "id": "3ed9a1f9-8bd2-4512-951b-8ee653c52311",
   "metadata": {},
   "outputs": [],
   "source": [
    "#9.If your programme is stuck in an endless loop, what keys you’ll press?\n",
    "#Ans: If My programm is stuck in an endless loop so that time I restart my kernal.\n"
   ]
  },
  {
   "cell_type": "code",
   "execution_count": 5,
   "id": "edb897bc-23e6-4cea-a620-ff30bd428e35",
   "metadata": {},
   "outputs": [],
   "source": [
    "#10. How can you tell the difference between break and continue?\n",
    "#Ans: The break statement is used to exit or terminate a loop prematurely when a certain condition is met. \n",
    "# and The continue statement, when encountered within a loop, skips the current iteration of the loop and continues with the next iteration."
   ]
  },
  {
   "cell_type": "code",
   "execution_count": null,
   "id": "67cc5764-eb09-4b45-b6d6-dee29ae7c4fa",
   "metadata": {},
   "outputs": [],
   "source": [
    "# 11. In a for loop, what is the difference between range(10), range(0, 10), and range(0, 10, 1)? \n",
    "# Ans: All three forms (range(10), range(0, 10), and range(0, 10, 1)) produce the same sequence of numbers from 0 to 9, but they provide different ways of expressing the start, stop, and step parameters for the range() function\n",
    "# 1. Range(10)-produces numbers from 0 to 9: 0, 1, 2, 3, 4, 5, 6, 7, 8, 9.\n",
    "# 2. Range(0,10) - Like range(10), it produces numbers from 0 to 9: 0, 1, 2, 3, 4, 5, 6, 7, 8, 9.\n",
    "# 3. Range (0,10,1) - Like the previous two cases, it produces numbers from 0 to 9: 0, 1, 2, 3, 4, 5, 6, 7, 8, 9."
   ]
  },
  {
   "cell_type": "code",
   "execution_count": 1,
   "id": "b5c0024d-b030-420b-833e-8829ae8bf786",
   "metadata": {},
   "outputs": [
    {
     "name": "stdout",
     "output_type": "stream",
     "text": [
      "1\n",
      "2\n",
      "3\n",
      "4\n",
      "5\n",
      "6\n",
      "7\n",
      "8\n",
      "9\n",
      "10\n"
     ]
    }
   ],
   "source": [
    "#12. Write a short program that prints the numbers 1 to 10 using a for loop. Then write an equivalent program that prints the numbers 1 to 10 using a while loop. \n",
    "# Print the number 1 to 10 using for loop\n",
    "for i in range(1,11):\n",
    "    print(i)"
   ]
  },
  {
   "cell_type": "code",
   "execution_count": 4,
   "id": "5b4d0a19-858f-4581-a507-0f143080f101",
   "metadata": {},
   "outputs": [
    {
     "name": "stdout",
     "output_type": "stream",
     "text": [
      "1\n",
      "2\n",
      "3\n",
      "4\n",
      "5\n",
      "6\n",
      "7\n",
      "8\n",
      "9\n",
      "10\n"
     ]
    }
   ],
   "source": [
    "# Print the number 1 to 10 using while loop\n",
    "count=1\n",
    "while count<=10:\n",
    "    print(count)\n",
    "    count+=1\n"
   ]
  },
  {
   "cell_type": "code",
   "execution_count": 8,
   "id": "f9b86460-bbba-45a2-857e-cbb3872f00d4",
   "metadata": {},
   "outputs": [],
   "source": [
    "#13. If you had a function named bacon() inside a module named spam, how would you call it after importing spam?\n",
    "\n",
    "# import spam\n",
    "# spam.bacon()\n",
    "#This assumes that the bacon() function is defined within the spam module. The dot notation (spam.bacon()) is used to access functions or variables within a module in Python.\n"
   ]
  },
  {
   "cell_type": "code",
   "execution_count": null,
   "id": "dd23cc84-bb96-417d-8f3a-4a248e0a7e42",
   "metadata": {},
   "outputs": [],
   "source": []
  }
 ],
 "metadata": {
  "kernelspec": {
   "display_name": "Python 3 (ipykernel)",
   "language": "python",
   "name": "python3"
  },
  "language_info": {
   "codemirror_mode": {
    "name": "ipython",
    "version": 3
   },
   "file_extension": ".py",
   "mimetype": "text/x-python",
   "name": "python",
   "nbconvert_exporter": "python",
   "pygments_lexer": "ipython3",
   "version": "3.10.6"
  }
 },
 "nbformat": 4,
 "nbformat_minor": 5
}
